{
 "cells": [
  {
   "cell_type": "markdown",
   "id": "63d9622f-9f7f-41c3-b71d-7dd90cc3c7b8",
   "metadata": {},
   "source": [
    "# **Convex Optimisation Using DAMSMEL and Gradient Descent**\n",
    "\n",
    "This project is a test for DAMSMEL in terms of convex problem. We will use DAMSMEL, and Gradient Descent (GD) to optimise a convex function. As expected, both optimisers should performs well in this problem."
   ]
  },
  {
   "cell_type": "code",
   "execution_count": 1,
   "id": "81476da6-b7c4-477f-ac1c-a769bef9e36d",
   "metadata": {},
   "outputs": [],
   "source": [
    "# Python Libraries:\n",
    "\n",
    "import time\n",
    "import pandas as pd\n",
    "import numpy as np\n",
    "import matplotlib.pyplot as plt\n",
    "import seaborn as sns\n",
    "import sympy as sp\n",
    "from scipy.optimize import fsolve\n",
    "\n",
    "import sys\n",
    "import os\n",
    "damsmel_dir = os.path.abspath('../damsmel')\n",
    "sys.path.append(damsmel_dir)\n",
    "\n",
    "from damsmel import DAMSMEL\n",
    "from gradient_based_optimisers import gradient_descent\n",
    "\n",
    "# Ignore warnings:\n",
    "import warnings\n",
    "warnings.filterwarnings('ignore')\n",
    "\n",
    "from IPython.display import HTML, Markdown"
   ]
  },
  {
   "cell_type": "markdown",
   "id": "382af909-5c48-4590-9ca3-e64e01eed3c1",
   "metadata": {},
   "source": [
    "## **1. Introduction**"
   ]
  },
  {
   "cell_type": "markdown",
   "id": "83a32c61-d86e-48d6-aeb2-935a1cb3c70b",
   "metadata": {},
   "source": [
    "Given a function $f: \\mathbb{R}^2 \\to \\mathbb{R}$ defined by\n",
    "$$\n",
    "\\forall x, y \\in \\mathbb{R} ,\\;\n",
    "f(x, y) := (x + y - \\pi)^2 - 2xy\n",
    "$$\n",
    "which is a convex function. This function attains a single global minimum at $(\\pi, \\pi)$ which can be deduced from solving\n",
    "$$\n",
    "\\nabla f(x, y) = \\mathbf{0} \\,.\n",
    "$$\n",
    "\n",
    "In this test, we will optimise $f$ using both DAMSMEL and GD as test for GD. The results of these two optimisers should have very near to $(\\pi \\pi)$. For a rigorous condition, let $\\epsilon > 0$. We say that either DAMSMEL or GD is $\\epsilon$-convergent if and only if\n",
    "$$\n",
    "\\|\\mathbf{u} - (\\pi, \\pi)\\|_2 < \\epsilon \\,,\n",
    "$$\n",
    "where $\\mathbf{u} \\in \\mathbb{R}^2$ is the solution by either DAMSMEL or GD."
   ]
  },
  {
   "cell_type": "markdown",
   "id": "b439901b-2bfb-4099-8df3-b329b2a43bd1",
   "metadata": {},
   "source": [
    "## **2. Preparation**"
   ]
  },
  {
   "cell_type": "markdown",
   "id": "6be7ae20-3c25-4dd0-a214-277f0208811a",
   "metadata": {},
   "source": [
    "While DAMSMEL can be executed straightforward, GD require us to compute the gradient of $f$ first, which is given as follows:\n",
    "$$\n",
    "\\nabla f(u_1, u_2)\n",
    "= \\sum_{k = 1}^2 \\frac{\\partial}{\\partial u_k} f(u_1, u_2)\n",
    "= \\begin{bmatrix}\n",
    "2 u_1 - 2\\pi \\\\ 2 u_2 - 2\\pi\n",
    "\\end{bmatrix} \\,.\n",
    "$$\n",
    "\n",
    "The Python code implementation for both $f$ and $\\nabla f$ is given as follows."
   ]
  },
  {
   "cell_type": "code",
   "execution_count": 2,
   "id": "8d3f4d06-28e2-4811-a729-8de4d1a26dcb",
   "metadata": {},
   "outputs": [],
   "source": [
    "# Python code for f:\n",
    "f = lambda x: (x[0] + x[1] - np.pi)**2 - 2 *x[0] *x[1]\n",
    "nabla_f = lambda x: np.array([2 *x[0] - 2 *np.pi, 2 *x[1] - 2 *np.pi])"
   ]
  },
  {
   "cell_type": "markdown",
   "id": "c192116a-28db-42db-8142-98d83a6bb807",
   "metadata": {},
   "source": [
    "To make the optimisation process for both optimisers fairly executed, we will apply the same starting point and the same number of iterations."
   ]
  },
  {
   "cell_type": "code",
   "execution_count": 3,
   "id": "5d014a86-c15d-4d4b-af06-5c984b2cacc0",
   "metadata": {},
   "outputs": [],
   "source": [
    "u0 = np.array([-10, -10])\n",
    "steps = 1000"
   ]
  },
  {
   "cell_type": "markdown",
   "id": "9cb8f7af-9bd4-4218-99c5-2167f0efd153",
   "metadata": {},
   "source": [
    "## **3. Optimisation**"
   ]
  },
  {
   "cell_type": "markdown",
   "id": "6d247f9b-e268-4764-aa48-720f4b6f8b52",
   "metadata": {},
   "source": [
    "### **3.1. DAMSMEL**"
   ]
  },
  {
   "cell_type": "code",
   "execution_count": 4,
   "id": "2019b400-7201-4a5d-9a89-b6748b76b766",
   "metadata": {},
   "outputs": [
    {
     "name": "stdout",
     "output_type": "stream",
     "text": [
      ">>> Runtime: 0.39150500297546387 seconds []\n"
     ]
    }
   ],
   "source": [
    "damsmel = DAMSMEL(f, 2)\n",
    "damsmel_solution = damsmel.optimize(\n",
    "    u0, 5, M= steps\n",
    ")"
   ]
  },
  {
   "cell_type": "code",
   "execution_count": 5,
   "id": "0ace7367-56f5-40bb-95d4-5d2399267d4a",
   "metadata": {
    "jupyter": {
     "source_hidden": true
    }
   },
   "outputs": [
    {
     "data": {
      "text/markdown": [
       "DAMSMEL Solution, $\\mathbf{u} =$ (3.1415926475139972, 3.1415926414377773)"
      ],
      "text/plain": [
       "<IPython.core.display.Markdown object>"
      ]
     },
     "metadata": {},
     "output_type": "display_data"
    },
    {
     "data": {
      "image/png": "[encoded data removed]",
      "text/plain": [
       "<Figure size 640x480 with 1 Axes>"
      ]
     },
     "metadata": {},
     "output_type": "display_data"
    }
   ],
   "source": [
    "display(\n",
    "    Markdown(\n",
    "        r\"DAMSMEL Solution, $\\mathbf{u} =$\"\n",
    "        + f\" {tuple(damsmel_solution)}\"\n",
    "    )\n",
    ")\n",
    "\n",
    "damsmel.monitor[\"loss\"].plot(\n",
    "    xlabel= \"Step\", ylabel= \"f\",\n",
    "    title= \"DAMSMEL Performance Monitor\",\n",
    "    color= \"blue\",\n",
    "    linewidth= 0.8\n",
    ");"
   ]
  },
  {
   "cell_type": "markdown",
   "id": "9962721a-9a42-4992-a434-4d39867ab204",
   "metadata": {},
   "source": [
    "### **3.2. Gradient Descent**"
   ]
  },
  {
   "cell_type": "code",
   "execution_count": 6,
   "id": "3f65d8da-1151-4819-aae8-2cf1ab169fa4",
   "metadata": {},
   "outputs": [
    {
     "name": "stdout",
     "output_type": "stream",
     "text": [
      ">>> Total Time: 0.005568981170654297 seconds []\n"
     ]
    }
   ],
   "source": [
    "gd_monitor = gradient_descent(f, nabla_f, u0, M= steps)\n",
    "gd_solution = list(gd_monitor[gd_monitor[\"loss\"] == gd_monitor[\"loss\"].min()][\"solution\"])[0]"
   ]
  },
  {
   "cell_type": "code",
   "execution_count": 7,
   "id": "160acfd6-bedc-4eeb-979d-4c07dac599a8",
   "metadata": {
    "jupyter": {
     "source_hidden": true
    }
   },
   "outputs": [
    {
     "data": {
      "text/markdown": [
       "GD Solution, $\\mathbf{v} =$ (3.1415926248300696, 3.1415926248300696)"
      ],
      "text/plain": [
       "<IPython.core.display.Markdown object>"
      ]
     },
     "metadata": {},
     "output_type": "display_data"
    },
    {
     "data": {
      "image/png": "[encoded data removed]",
      "text/plain": [
       "<Figure size 640x480 with 1 Axes>"
      ]
     },
     "metadata": {},
     "output_type": "display_data"
    }
   ],
   "source": [
    "display(\n",
    "    Markdown(\n",
    "        r\"GD Solution, $\\mathbf{v} =$\"\n",
    "        + f\" {tuple(gd_solution)}\"\n",
    "    )\n",
    ")\n",
    "\n",
    "gd_monitor[\"loss\"].plot(\n",
    "    xlabel= \"Step\", ylabel= \"f\",\n",
    "    title= \"GD Performance Monitor\",\n",
    "    color= \"blue\",\n",
    "    linewidth= 0.8\n",
    ");"
   ]
  },
  {
   "cell_type": "markdown",
   "id": "12f86e8b-8c8f-4d1c-ad05-1e7ac74ff1ce",
   "metadata": {},
   "source": [
    "## **4. Evaluation**"
   ]
  },
  {
   "cell_type": "markdown",
   "id": "af957cb4-8314-4b23-b532-d158b0530d86",
   "metadata": {},
   "source": [
    "We will now evaluate the results of the two optimisers in minimising $f$. First, we will evaluate whether the solutions are $\\epsilon$-convergent. Let $\\epsilon := 10^{-6}$. We obtain as follows:"
   ]
  },
  {
   "cell_type": "code",
   "execution_count": 8,
   "id": "f58ede76-22f5-47b7-b1f2-e4c68f7a2ba8",
   "metadata": {},
   "outputs": [
    {
     "data": {
      "text/markdown": [
       "$\\|$$\\mathbf{u}$$ - (\\pi, \\pi)\\|_2 =$ 1.3586271907275646e-08$<$$\\epsilon$"
      ],
      "text/plain": [
       "<IPython.core.display.Markdown object>"
      ]
     },
     "metadata": {},
     "output_type": "display_data"
    },
    {
     "data": {
      "text/markdown": [
       "$\\|$$\\mathbf{v}$$ - (\\pi, \\pi)\\|_2 =$ 4.067239101190567e-08$<$$\\epsilon$"
      ],
      "text/plain": [
       "<IPython.core.display.Markdown object>"
      ]
     },
     "metadata": {},
     "output_type": "display_data"
    }
   ],
   "source": [
    "eval_DAMSMEL = np.linalg.norm(damsmel_solution - np.array([np.pi] *2))\n",
    "eval_GD = np.linalg.norm(gd_solution - np.array([np.pi] *2))\n",
    "\n",
    "def evaluation_result(eval, notat):\n",
    "    if eval < 10**(-6):\n",
    "        sign = r\"$<$\"\n",
    "    else:\n",
    "        sign = r\"$\\geq$\"\n",
    "    display(\n",
    "        Markdown(\n",
    "            r\"$\\|$\" + notat + r\"$ - (\\pi, \\pi)\\|_2 =$\" + \" \" + str(eval) + sign + r\"$\\epsilon$\"\n",
    "        )\n",
    "    )\n",
    "\n",
    "evaluation_result(eval_DAMSMEL, r\"$\\mathbf{u}$\")\n",
    "evaluation_result(eval_GD, r\"$\\mathbf{v}$\")"
   ]
  },
  {
   "cell_type": "markdown",
   "id": "d9e9274f-36c8-4bd6-8115-0627dc064d7a",
   "metadata": {},
   "source": [
    "To further find which solution between DAMSMEL's and GD's is closer to $(\\pi, \\pi)$, we compute as follows:"
   ]
  },
  {
   "cell_type": "code",
   "execution_count": 9,
   "id": "bf75926b-8716-4840-bfea-473b0fac7645",
   "metadata": {},
   "outputs": [
    {
     "data": {
      "text/markdown": [
       "$\\|\\mathbf{u} - (\\pi, \\pi)\\|_2$ $<$ $\\|\\mathbf{v} - (\\pi, \\pi)\\|_2$"
      ],
      "text/plain": [
       "<IPython.core.display.Markdown object>"
      ]
     },
     "metadata": {},
     "output_type": "display_data"
    }
   ],
   "source": [
    "def comparison():\n",
    "    if eval_DAMSMEL < eval_GD:\n",
    "        sign = r\" $<$ \"\n",
    "    else:\n",
    "        sign = r\" $\\geq$ \"\n",
    "    display(\n",
    "        Markdown(\n",
    "            r\"$\\|\\mathbf{u} - (\\pi, \\pi)\\|_2$\" + sign + r\"$\\|\\mathbf{v} - (\\pi, \\pi)\\|_2$\"\n",
    "        )\n",
    "    )\n",
    "\n",
    "comparison()"
   ]
  },
  {
   "cell_type": "markdown",
   "id": "fd003dd4-3eca-4d70-a3b2-e54040c1c014",
   "metadata": {},
   "source": [
    "The result shows that DAMSMEL solution is still closer to the actual analytic solution than GD, demonstrating a better accuracy than GD in convex setting with the same number of iterations."
   ]
  }
 ],
 "metadata": {
  "kernelspec": {
   "display_name": "Python 3 (ipykernel)",
   "language": "python",
   "name": "python3"
  },
  "language_info": {
   "codemirror_mode": {
    "name": "ipython",
    "version": 3
   },
   "file_extension": ".py",
   "mimetype": "text/x-python",
   "name": "python",
   "nbconvert_exporter": "python",
   "pygments_lexer": "ipython3",
   "version": "3.10.13"
  }
 },
 "nbformat": 4,
 "nbformat_minor": 5
}
